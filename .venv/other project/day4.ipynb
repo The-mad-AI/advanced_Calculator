{
 "cells": [
  {
   "cell_type": "code",
   "execution_count": null,
   "metadata": {},
   "outputs": [
    {
     "name": "stdout",
     "output_type": "stream",
     "text": [
      "add 1: 2\n",
      "add 2: 3\n",
      "add 3: 2\n"
     ]
    }
   ],
   "source": [
    "\n",
    "numbers = [1, 2, 3, 2, 4, 5, 1, 6, 3, 2]\n",
    "count_dict = {}\n",
    "for num in numbers :\n",
    "    if num in count_dict:\n",
    "        count_dict[num] +=1\n",
    "    else:\n",
    "        count_dict[num] = 1\n",
    "for num , count in count_dict.items():\n",
    "    if count > 1:\n",
    "        print(f\"add {num}: {count}\")\n",
    "\n"
   ]
  }
 ],
 "metadata": {
  "kernelspec": {
   "display_name": "Python 3",
   "language": "python",
   "name": "python3"
  },
  "language_info": {
   "codemirror_mode": {
    "name": "ipython",
    "version": 3
   },
   "file_extension": ".py",
   "mimetype": "text/x-python",
   "name": "python",
   "nbconvert_exporter": "python",
   "pygments_lexer": "ipython3",
   "version": "3.12.2"
  }
 },
 "nbformat": 4,
 "nbformat_minor": 2
}
