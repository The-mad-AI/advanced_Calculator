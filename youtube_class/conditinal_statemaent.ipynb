{
 "cells": [
  {
   "cell_type": "markdown",
   "metadata": {},
   "source": [
    "if condtion:\n",
    "    #code 1\n",
    "else:\n",
    "    #code 2"
   ]
  },
  {
   "cell_type": "code",
   "execution_count": null,
   "metadata": {},
   "outputs": [
    {
     "name": "stdout",
     "output_type": "stream",
     "text": [
      "need to up\n"
     ]
    }
   ],
   "source": [
    "a = 5\n",
    "if a >= 10:\n",
    "    print(\"that's okey\")\n",
    "else:\n",
    "    print(\"need to up\")"
   ]
  },
  {
   "cell_type": "markdown",
   "metadata": {},
   "source": [
    "try and except for manegment errors "
   ]
  },
  {
   "cell_type": "code",
   "execution_count": null,
   "metadata": {},
   "outputs": [
    {
     "name": "stdout",
     "output_type": "stream",
     "text": [
      "you give access this programe...:)\n"
     ]
    }
   ],
   "source": [
    "try:\n",
    "    user_age = int(float(input(\"please enter your age ..\")))\n",
    "except ValueError:\n",
    "    print(\"please enter a valid number\")\n",
    "else:\n",
    "    print(\"you give access this programe...:)\") if user_age >= 18 else print(\n",
    "        \"you must  be at least 18.... \")"
   ]
  },
  {
   "cell_type": "markdown",
   "metadata": {},
   "source": [
    "2two type of one code for type of programe we can use which one"
   ]
  },
  {
   "cell_type": "code",
   "execution_count": null,
   "metadata": {},
   "outputs": [],
   "source": [
    "\n",
    "if user_age >= 18:\n",
    "    print(\"you give access this programe...:)\")\n",
    "else:\n",
    "    print(\"you must  be at least 18.... \")"
   ]
  },
  {
   "cell_type": "code",
   "execution_count": 64,
   "metadata": {},
   "outputs": [
    {
     "name": "stdout",
     "output_type": "stream",
     "text": [
      "you give the access for the job..\n"
     ]
    }
   ],
   "source": [
    "score_1 = 80\n",
    "score_2 = 80\n",
    "\n",
    "if all(score >= 80 for score in[score_1 , score_2]) :\n",
    "    print(\"you give the access for the job..\")\n",
    "else :\n",
    "    print(\"you point is not enogh for the job please try againe..\")"
   ]
  },
  {
   "cell_type": "code",
   "execution_count": 66,
   "metadata": {},
   "outputs": [
    {
     "name": "stdout",
     "output_type": "stream",
     "text": [
      "sorry you'r point is not enogh for the exam..\n"
     ]
    }
   ],
   "source": [
    "test_1 = 25\n",
    "test_2 = 15\n",
    "\n",
    "if all(test >= 20 for test in[test_1 , test_2]):\n",
    "    print(\"congrlation your accept for the exame\")\n",
    "else:\n",
    "    print(\"sorry you'r point is not enogh for the exam..\")"
   ]
  },
  {
   "cell_type": "code",
   "execution_count": 68,
   "metadata": {},
   "outputs": [
    {
     "name": "stdout",
     "output_type": "stream",
     "text": [
      "your need to resting\n"
     ]
    }
   ],
   "source": [
    "homogolobin_valu = 65 \n",
    "golokos_valu = 25 \n",
    "endrophin_valu = 12 \n",
    "\n",
    "valus= [homogolobin_valu , golokos_valu , endrophin_valu]\n",
    "if all(valu >= 10 for valu in valus):\n",
    "    print(\"your need to resting\")\n",
    "else:\n",
    "    print(\"you are good\")"
   ]
  }
 ],
 "metadata": {
  "kernelspec": {
   "display_name": "Python 3",
   "language": "python",
   "name": "python3"
  },
  "language_info": {
   "codemirror_mode": {
    "name": "ipython",
    "version": 3
   },
   "file_extension": ".py",
   "mimetype": "text/x-python",
   "name": "python",
   "nbconvert_exporter": "python",
   "pygments_lexer": "ipython3",
   "version": "3.12.2"
  }
 },
 "nbformat": 4,
 "nbformat_minor": 2
}
