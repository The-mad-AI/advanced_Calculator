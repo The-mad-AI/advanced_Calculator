{
 "cells": [
  {
   "cell_type": "code",
   "execution_count": null,
   "metadata": {},
   "outputs": [],
   "source": [
    "def check_age(age):\n",
    "    if age >= 18:\n",
    "        print(\"you can drive\")\n",
    "    else:\n",
    "        print('you can not drive')"
   ]
  },
  {
   "cell_type": "code",
   "execution_count": 6,
   "metadata": {},
   "outputs": [
    {
     "name": "stdout",
     "output_type": "stream",
     "text": [
      "you can not drive\n"
     ]
    }
   ],
   "source": [
    "user_age = int(input(\"please enter your age\"))\n",
    "check_age(user_age)"
   ]
  },
  {
   "cell_type": "code",
   "execution_count": null,
   "metadata": {},
   "outputs": [],
   "source": [
    "def check_ranking(rank):\n",
    "    if rank >= 3000:\n",
    "        print(\"you are a legend ! Welcome to elite club\")\n",
    "    elif rank >= 2500:\n",
    "        print(\"Welcome to pro playeer world ! you'r among the best\")\n",
    "    elif rank >= 1500:\n",
    "        print(\"You're doing well , but there's room for improvement. keep going\")\n",
    "    elif rank <= 1200:\n",
    "        print(\"you are a newbie :)..Keep practicing and you'll improve!\")\n",
    "    else :\n",
    "        print(\"You'r the right track,Keep it up\")\n",
    "        \n",
    "    "
   ]
  },
  {
   "cell_type": "code",
   "execution_count": 25,
   "metadata": {},
   "outputs": [
    {
     "name": "stdout",
     "output_type": "stream",
     "text": [
      "you are a newbie :)..Keep practicing and you'll ipmprov!\n"
     ]
    }
   ],
   "source": [
    "try:\n",
    "    rank = int(input(\"please enter you'r mmr or ranking point\"))\n",
    "    check_ranking(rank)\n",
    "except ValueError:\n",
    "    print(\"invalid input! please enter a valid number !\")"
   ]
  },
  {
   "cell_type": "code",
   "execution_count": null,
   "metadata": {},
   "outputs": [],
   "source": [
    "print   "
   ]
  }
 ],
 "metadata": {
  "kernelspec": {
   "display_name": "Python 3",
   "language": "python",
   "name": "python3"
  },
  "language_info": {
   "codemirror_mode": {
    "name": "ipython",
    "version": 3
   },
   "file_extension": ".py",
   "mimetype": "text/x-python",
   "name": "python",
   "nbconvert_exporter": "python",
   "pygments_lexer": "ipython3",
   "version": "3.12.2"
  }
 },
 "nbformat": 4,
 "nbformat_minor": 2
}
